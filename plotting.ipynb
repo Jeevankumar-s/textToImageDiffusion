{
  "nbformat": 4,
  "nbformat_minor": 0,
  "metadata": {
    "colab": {
      "name": "Copy of Untitled26.ipynb",
      "provenance": [],
      "include_colab_link": true
    },
    "kernelspec": {
      "name": "python3",
      "display_name": "Python 3"
    }
  },
  "cells": [
    {
      "cell_type": "markdown",
      "metadata": {
        "id": "view-in-github",
        "colab_type": "text"
      },
      "source": [
        "<a href=\"https://colab.research.google.com/github/Jeevankumar-s/textToImageDiffusion/blob/main/plotting.ipynb\" target=\"_parent\"><img src=\"https://colab.research.google.com/assets/colab-badge.svg\" alt=\"Open In Colab\"/></a>"
      ]
    },
    {
      "cell_type": "markdown",
      "metadata": {
        "id": "58YjF4VCcGXM"
      },
      "source": [
        "# **Plotting**"
      ]
    },
    {
      "cell_type": "code",
      "metadata": {
        "id": "4XTSPD8Ka3yR"
      },
      "source": [
        "!git clone https://github.com/deepanrajm/machine_learning.git"
      ],
      "execution_count": null,
      "outputs": []
    },
    {
      "cell_type": "markdown",
      "metadata": {
        "id": "KyrXtOaocMWf"
      },
      "source": [
        "# General plot.**py**"
      ]
    },
    {
      "cell_type": "code",
      "metadata": {
        "id": "JsFATb435SwS"
      },
      "source": [
        "import matplotlib.pyplot as plt\n",
        "import numpy as np\n",
        "import seaborn as sns"
      ],
      "execution_count": null,
      "outputs": []
    },
    {
      "cell_type": "code",
      "metadata": {
        "id": "khvgt4Gh5WMQ"
      },
      "source": [
        "x = np.random.random((10, 1))\n",
        "\n",
        "print(x)"
      ],
      "execution_count": null,
      "outputs": []
    },
    {
      "cell_type": "code",
      "metadata": {
        "id": "mofPFLUU5YoJ"
      },
      "source": [
        "plt.plot(x, '*-')\n",
        "plt.show()"
      ],
      "execution_count": null,
      "outputs": []
    },
    {
      "cell_type": "code",
      "metadata": {
        "id": "PNbDs8nY5eY2"
      },
      "source": [
        "x = np.linspace(0, 100, 50)\n",
        "y = np.power(x, .5)\n",
        "plt.plot(x, y, '+-')\n",
        "plt.show()"
      ],
      "execution_count": null,
      "outputs": []
    },
    {
      "cell_type": "code",
      "metadata": {
        "id": "37rikei85hCl"
      },
      "source": [
        "sns.set()\n",
        "sns.lineplot(x, y)\n",
        "plt.show()"
      ],
      "execution_count": null,
      "outputs": []
    },
    {
      "cell_type": "markdown",
      "metadata": {
        "id": "LOsbB7JHcgBD"
      },
      "source": [
        "# **Plotting Data from Dataset**"
      ]
    },
    {
      "cell_type": "code",
      "metadata": {
        "id": "TAKX_zkZ5uoD"
      },
      "source": [
        "import matplotlib.pyplot as plt\n",
        "import numpy as np\n",
        "import seaborn as sns\n",
        "import pandas as pd"
      ],
      "execution_count": null,
      "outputs": []
    },
    {
      "cell_type": "code",
      "metadata": {
        "id": "Bjz0EPCD5xGz"
      },
      "source": [
        "data = pd.read_csv('machine_learning/Plotting/mobile_cleaned.csv')\n",
        "data.head()"
      ],
      "execution_count": null,
      "outputs": []
    },
    {
      "cell_type": "code",
      "metadata": {
        "id": "-ZPqF4i85-CR"
      },
      "source": [
        "ax = sns.scatterplot(x=\"stand_by_time\", y=\"battery_capacity\", data=data)\n",
        "plt.show()"
      ],
      "execution_count": null,
      "outputs": []
    },
    {
      "cell_type": "code",
      "metadata": {
        "id": "qjMZ4my86AXk"
      },
      "source": [
        "ax = sns.scatterplot(x = \"stand_by_time\", y = \"battery_capacity\", hue=\"thickness\", data=data)\n",
        "plt.show()"
      ],
      "execution_count": null,
      "outputs": []
    },
    {
      "cell_type": "code",
      "metadata": {
        "id": "_dhfWITu6CsF"
      },
      "source": [
        "ax = sns.distplot(data[\"stand_by_time\"])\n",
        "plt.show()"
      ],
      "execution_count": null,
      "outputs": []
    },
    {
      "cell_type": "code",
      "metadata": {
        "id": "gn07WOHw6D4r"
      },
      "source": [
        "ax = sns.boxplot(x=\"is_liked\", y=\"battery_capacity\", data=data)\n",
        "plt.show()"
      ],
      "execution_count": null,
      "outputs": []
    },
    {
      "cell_type": "code",
      "metadata": {
        "id": "wN4hUmPocpP6"
      },
      "source": [
        "ax = sns.boxplot(x = \"expandable_memory\", y = \"price\", data=data)\n",
        "plt.show()"
      ],
      "execution_count": null,
      "outputs": []
    },
    {
      "cell_type": "markdown",
      "metadata": {
        "id": "5TZ8P4G3cwBv"
      },
      "source": [
        "**4 Axis to the maximum**"
      ]
    },
    {
      "cell_type": "code",
      "metadata": {
        "id": "KBohZqYVc3v-"
      },
      "source": [
        "dataframe = pd.read_csv(\"machine_learning/Plotting/iris.csv\")\n",
        "print(dataframe.head())\n",
        "\n",
        "\n",
        "ax = sns.scatterplot(x=\"petal.length\", y=\"petal.width\",hue=\"variety\",size = \"sepal.width\",data=dataframe)\n",
        "plt.show()"
      ],
      "execution_count": null,
      "outputs": []
    }
  ]
}